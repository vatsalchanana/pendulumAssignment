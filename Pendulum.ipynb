{
 "cells": [
  {
   "cell_type": "markdown",
   "metadata": {},
   "source": [
    "# Model Based Learning"
   ]
  },
  {
   "cell_type": "markdown",
   "metadata": {},
   "source": [
    "Consider a pendulum with a some unknown mass and unknown dynamics as\n",
    "your system. Your system takes in as input a torque (clockwise or\n",
    "counter clockwise). Your goal is to compute a sequence of actions that ensure\n",
    "the pendulum can stay in an upright position. This is a classic model based\n",
    "problem and can be broken down to 2 pieces :\n",
    "1. Learn the model of the system.\n",
    "2. Using the learned model, use a planner to compute the sequence of states\n",
    "required to achieve the desired position.\n",
    "Part a) Implement a system that learns the model of the pendulum.\n",
    "The state of the pendulum at any time t is given as s(t) = [cos(θ), sin(theta), θ,  ̇θ].\n",
    "Your output action space is a continuous action space corresponding to the\n",
    "torque τ applied at the hinge τ ∈ (−2, 2). "
   ]
  },
  {
   "cell_type": "markdown",
   "metadata": {},
   "source": [
    "\n",
    "\n",
    "# Part A) Implement a system modelling the pendulum"
   ]
  },
  {
   "cell_type": "code",
   "execution_count": 2,
   "metadata": {},
   "outputs": [],
   "source": [
    "import gym\n",
    "import numpy as np\n",
    "import math\n",
    "env = gym.make('Pendulum-v0')\n",
    "env.reset();"
   ]
  },
  {
   "cell_type": "markdown",
   "metadata": {},
   "source": [
    "### Generate training data"
   ]
  },
  {
   "cell_type": "markdown",
   "metadata": {},
   "source": [
    "Function to get $\\theta, \\theta^.$ from the observation obtained from gym"
   ]
  },
  {
   "cell_type": "code",
   "execution_count": 3,
   "metadata": {},
   "outputs": [],
   "source": [
    "def getThetaThetaDotFromData(observation):\n",
    "    theta = math.atan2(observation[1], observation[0]);\n",
    "    return [theta/math.pi, observation[2]]\n"
   ]
  },
  {
   "cell_type": "markdown",
   "metadata": {},
   "source": [
    "Convert to a training data object - a list of 3 elements $[\\theta, \\theta^., \\tau]$"
   ]
  },
  {
   "cell_type": "code",
   "execution_count": 4,
   "metadata": {},
   "outputs": [],
   "source": [
    "def getTrainingSample(observation, action):\n",
    "    return np.array(getThetaThetaDotFromData(observation) + action.tolist());"
   ]
  },
  {
   "cell_type": "markdown",
   "metadata": {},
   "source": [
    "Generate 2000000 data points"
   ]
  },
  {
   "cell_type": "code",
   "execution_count": 5,
   "metadata": {},
   "outputs": [],
   "source": [
    "x = []\n",
    "y = []\n",
    "for i_episode in range(2000):\n",
    "    observation = env.reset()\n",
    "    for t in range(1000):\n",
    "        action = env.action_space.sample()\n",
    "        old_observation = observation\n",
    "        observation, reward, done, info = env.step(action)\n",
    "        x.append(getTrainingSample(old_observation, action))\n",
    "        y.append(np.array(getThetaThetaDotFromData(observation)))\n",
    "x = np.array(x)\n",
    "y = np.array(y)"
   ]
  },
  {
   "cell_type": "code",
   "execution_count": 6,
   "metadata": {},
   "outputs": [
    {
     "data": {
      "text/plain": [
       "array([[ 0.93185157,  0.24024215,  0.19525401],\n",
       "       [ 0.93867737,  0.42887734,  0.86075747],\n",
       "       [ 0.94984347,  0.70158691,  0.41105351],\n",
       "       ..., \n",
       "       [ 0.8527639 , -2.66197513,  1.71343434],\n",
       "       [ 0.81981433, -2.07028235,  1.56677568],\n",
       "       [ 0.797007  , -1.43302659, -0.0325189 ]])"
      ]
     },
     "execution_count": 6,
     "metadata": {},
     "output_type": "execute_result"
    }
   ],
   "source": [
    "x"
   ]
  },
  {
   "cell_type": "code",
   "execution_count": 7,
   "metadata": {},
   "outputs": [],
   "source": [
    "assert(len(x) == len(y))"
   ]
  },
  {
   "cell_type": "markdown",
   "metadata": {},
   "source": [
    "### Create a neural network to model the data"
   ]
  },
  {
   "cell_type": "code",
   "execution_count": 8,
   "metadata": {},
   "outputs": [
    {
     "name": "stderr",
     "output_type": "stream",
     "text": [
      "Using TensorFlow backend.\n"
     ]
    }
   ],
   "source": [
    "import numpy as np\n",
    "from keras import layers\n",
    "from keras.layers import Input, Add, Dense, Activation, ZeroPadding2D, BatchNormalization, Flatten, Conv2D, AveragePooling2D, MaxPooling2D, GlobalMaxPooling2D\n",
    "from keras.models import Model, load_model, Sequential\n",
    "from keras.preprocessing import image\n",
    "from keras.utils import layer_utils\n",
    "from keras.utils.data_utils import get_file\n",
    "from keras.applications.imagenet_utils import preprocess_input\n",
    "import pydot\n",
    "from IPython.display import SVG\n",
    "from keras.utils.vis_utils import model_to_dot\n",
    "from keras.utils import plot_model\n",
    "import os\n",
    "import numpy as np\n",
    "import tensorflow as tf\n",
    "import h5py\n",
    "import math\n",
    "from keras.initializers import glorot_uniform\n",
    "import scipy.misc\n",
    "from matplotlib.pyplot import imshow\n",
    "%matplotlib inline\n",
    "\n",
    "import keras.backend as K\n",
    "K.set_image_data_format('channels_last')\n",
    "K.set_learning_phase(1)"
   ]
  },
  {
   "cell_type": "markdown",
   "metadata": {},
   "source": [
    "### Architecture:  \n",
    "3 layers - 3X15, 15x15, 15X2    \n",
    "ReLu activation functions\n",
    "Total params: 332  \n",
    "Trainable params: 332  \n",
    "Non-trainable params: 0\n",
    "\n",
    "Input -  3 features describing the state : $\\theta, \\theta^., \\tau$  \n",
    "\n",
    "Output: 2 outputs, the $\\theta, \\theta^.$ describing the next state"
   ]
  },
  {
   "cell_type": "code",
   "execution_count": 336,
   "metadata": {},
   "outputs": [],
   "source": [
    "def get_model():\n",
    "    # create model\n",
    "    model = Sequential()\n",
    "    model.add(Dense(16, input_dim=3, kernel_initializer='normal', activation='relu'))\n",
    "    model.add(Dense(32, kernel_initializer='normal', activation='relu'))\n",
    "    model.add(Dense(2, kernel_initializer='normal'))\n",
    "    model.summary()\n",
    "    # Compile model\n",
    "    model.compile(loss='mean_squared_error', optimizer='adam')\n",
    "    return model"
   ]
  },
  {
   "cell_type": "code",
   "execution_count": 337,
   "metadata": {},
   "outputs": [
    {
     "name": "stdout",
     "output_type": "stream",
     "text": [
      "_________________________________________________________________\n",
      "Layer (type)                 Output Shape              Param #   \n",
      "=================================================================\n",
      "dense_4 (Dense)              (None, 16)                64        \n",
      "_________________________________________________________________\n",
      "dense_5 (Dense)              (None, 32)                544       \n",
      "_________________________________________________________________\n",
      "dense_6 (Dense)              (None, 2)                 66        \n",
      "=================================================================\n",
      "Total params: 674\n",
      "Trainable params: 674\n",
      "Non-trainable params: 0\n",
      "_________________________________________________________________\n"
     ]
    }
   ],
   "source": [
    "model = get_model()"
   ]
  },
  {
   "cell_type": "markdown",
   "metadata": {},
   "source": [
    "Training the model on the generated dataset"
   ]
  },
  {
   "cell_type": "code",
   "execution_count": 338,
   "metadata": {},
   "outputs": [
    {
     "name": "stdout",
     "output_type": "stream",
     "text": [
      "Train on 1800000 samples, validate on 200000 samples\n",
      "Epoch 1/20\n",
      "1800000/1800000 [==============================] - 86s 48us/step - loss: 0.0590 - val_loss: 0.0156\n",
      "Epoch 2/20\n",
      "1800000/1800000 [==============================] - 62s 34us/step - loss: 0.0143 - val_loss: 0.0141\n",
      "Epoch 3/20\n",
      "1800000/1800000 [==============================] - 61s 34us/step - loss: 0.0123 - val_loss: 0.0108\n",
      "Epoch 4/20\n",
      "1800000/1800000 [==============================] - 60s 34us/step - loss: 0.0102 - val_loss: 0.0071\n",
      "Epoch 5/20\n",
      "1800000/1800000 [==============================] - 57s 32us/step - loss: 0.0081 - val_loss: 0.0072\n",
      "Epoch 6/20\n",
      "1800000/1800000 [==============================] - 63s 35us/step - loss: 0.0073 - val_loss: 0.0179\n",
      "Epoch 7/20\n",
      "1800000/1800000 [==============================] - 61s 34us/step - loss: 0.0068 - val_loss: 0.0059\n",
      "Epoch 8/20\n",
      "1800000/1800000 [==============================] - 64s 35us/step - loss: 0.0065 - val_loss: 0.0062\n",
      "Epoch 9/20\n",
      "1800000/1800000 [==============================] - 68s 38us/step - loss: 0.0064 - val_loss: 0.0092\n",
      "Epoch 10/20\n",
      "1800000/1800000 [==============================] - 62s 35us/step - loss: 0.0060 - val_loss: 0.0087\n",
      "Epoch 11/20\n",
      "1800000/1800000 [==============================] - 71s 40us/step - loss: 0.0059 - val_loss: 0.0062\n",
      "Epoch 12/20\n",
      "1800000/1800000 [==============================] - 51s 29us/step - loss: 0.0057 - val_loss: 0.0037\n",
      "Epoch 13/20\n",
      "1800000/1800000 [==============================] - 53s 29us/step - loss: 0.0056 - val_loss: 0.0051\n",
      "Epoch 14/20\n",
      "1800000/1800000 [==============================] - 73s 40us/step - loss: 0.0055 - val_loss: 0.0076\n",
      "Epoch 15/20\n",
      "1800000/1800000 [==============================] - 55s 31us/step - loss: 0.0053 - val_loss: 0.0042\n",
      "Epoch 16/20\n",
      "1800000/1800000 [==============================] - 64s 35us/step - loss: 0.0053 - val_loss: 0.0069\n",
      "Epoch 17/20\n",
      "1800000/1800000 [==============================] - 67s 37us/step - loss: 0.0052 - val_loss: 0.0062\n",
      "Epoch 18/20\n",
      "1800000/1800000 [==============================] - 67s 37us/step - loss: 0.0052 - val_loss: 0.0110\n",
      "Epoch 19/20\n",
      "1800000/1800000 [==============================] - 63s 35us/step - loss: 0.0051 - val_loss: 0.0050\n",
      "Epoch 20/20\n",
      "1800000/1800000 [==============================] - 63s 35us/step - loss: 0.0050 - val_loss: 0.0042\n"
     ]
    }
   ],
   "source": [
    "history = model.fit(x,y,epochs=20, batch_size=50, verbose=1, validation_split=0.1)"
   ]
  },
  {
   "cell_type": "markdown",
   "metadata": {},
   "source": [
    "## Results\n",
    "\n",
    "### Training plots"
   ]
  },
  {
   "cell_type": "code",
   "execution_count": 339,
   "metadata": {},
   "outputs": [
    {
     "data": {
      "image/png": "[encoded data removed]",
      "text/plain": [
       "<Figure size 432x288 with 1 Axes>"
      ]
     },
     "metadata": {},
     "output_type": "display_data"
    }
   ],
   "source": [
    "import matplotlib.pyplot as plt\n",
    "history.history['loss'] = history.history['loss']\n",
    "plt.plot(history.history['loss'])\n",
    "plt.title('Training loss vs Iterations')\n",
    "plt.ylabel('Loss')\n",
    "plt.xlabel('Epoch')\n",
    "plt.legend(['Training', 'Validation'], loc='upper left')\n",
    "plt.show()"
   ]
  },
  {
   "cell_type": "markdown",
   "metadata": {},
   "source": [
    "Training error : 0.005 (L2 loss)  \n",
    "Validation error : 0.0042"
   ]
  },
  {
   "cell_type": "markdown",
   "metadata": {},
   "source": [
    "### Save the model"
   ]
  },
  {
   "cell_type": "code",
   "execution_count": 326,
   "metadata": {},
   "outputs": [],
   "source": [
    "model_json = model.to_json()\n",
    "with open(\"model.json\", \"w\") as json_file:\n",
    "    json_file.write(model_json)\n",
    "model.save_weights(\"model.h5\")"
   ]
  },
  {
   "cell_type": "markdown",
   "metadata": {},
   "source": [
    "### Dev testing"
   ]
  },
  {
   "cell_type": "code",
   "execution_count": 16,
   "metadata": {},
   "outputs": [
    {
     "data": {
      "text/plain": [
       "(1, 3)"
      ]
     },
     "execution_count": 16,
     "metadata": {},
     "output_type": "execute_result"
    }
   ],
   "source": [
    "observation = env.reset()\n",
    "action = env.action_space.sample()\n",
    "\n",
    "x_test = []\n",
    "x_test.append(np.array(getTrainingSample(observation,action)))\n",
    "x_test = np.array(x_test)\n",
    "x_test.shape"
   ]
  },
  {
   "cell_type": "code",
   "execution_count": 17,
   "metadata": {},
   "outputs": [],
   "source": [
    "y_hat = model.predict(x_test)"
   ]
  },
  {
   "cell_type": "code",
   "execution_count": 18,
   "metadata": {},
   "outputs": [
    {
     "data": {
      "text/plain": [
       "array([ 0.79159307,  0.13257157])"
      ]
     },
     "execution_count": 18,
     "metadata": {},
     "output_type": "execute_result"
    }
   ],
   "source": [
    "observation, reward, done, info = env.step(action)\n",
    "(np.array(getThetaThetaDotFromData(observation)))"
   ]
  },
  {
   "cell_type": "code",
   "execution_count": 19,
   "metadata": {},
   "outputs": [
    {
     "data": {
      "text/plain": [
       "(array([[ 0.78948313, -0.50177558,  1.15803444]]),\n",
       " array([[ 0.79148149,  0.13009129]], dtype=float32))"
      ]
     },
     "execution_count": 19,
     "metadata": {},
     "output_type": "execute_result"
    }
   ],
   "source": [
    "x_test, y_hat"
   ]
  },
  {
   "cell_type": "markdown",
   "metadata": {},
   "source": [
    "## Part B"
   ]
  },
  {
   "cell_type": "markdown",
   "metadata": {},
   "source": [
    "Using the learned model from Part a) and implement a graph based\n",
    "planner that can compute the most optimal solution. The easiest graph based\n",
    "planner can be A∗ (reads as A-star). For example, A-star takes in as input the\n",
    "current state, evaluates reachable states from the current state by computing a\n",
    "heuristic and then picks the best possible next state according to this heuristic."
   ]
  },
  {
   "cell_type": "code",
   "execution_count": 262,
   "metadata": {},
   "outputs": [],
   "source": [
    "torque_options = [x/10 for x in range(-20, 21)]"
   ]
  },
  {
   "cell_type": "code",
   "execution_count": 263,
   "metadata": {},
   "outputs": [],
   "source": [
    "stateMap = dict() # a map for converting \n",
    "stateCount = [0]\n",
    "decToKeep = 2"
   ]
  },
  {
   "cell_type": "markdown",
   "metadata": {},
   "source": [
    "Creating a discrete sample space for $\\theta, \\theta^.$"
   ]
  },
  {
   "cell_type": "code",
   "execution_count": 343,
   "metadata": {},
   "outputs": [],
   "source": [
    "#Make the search space discrete\n",
    "def getStateIndex(state):\n",
    "    v0  = round(state[0],decToKeep)\n",
    "    v1  = round(state[1],decToKeep)\n",
    "    roundedState = [v0, v1]\n",
    "\n",
    "    tupleForState = (roundedState[0],roundedState[1]);\n",
    "    if(tupleForState in stateMap):\n",
    "        return stateMap[tupleForState]\n",
    "    else:\n",
    "        stateCount[0] =  stateCount[0] + 1\n",
    "        stateMap[tupleForState] = stateCount[0]\n",
    "        return stateCount[0]\n"
   ]
  },
  {
   "cell_type": "code",
   "execution_count": 265,
   "metadata": {},
   "outputs": [],
   "source": [
    "# Check if a state was already added to a map\n",
    "def checkExistence(a):\n",
    "    roundedState = [round(a[0],decToKeep), round(a[1],decToKeep)]\n",
    "    tupleForState = (roundedState[0],roundedState[1]);\n",
    "    if(tupleForState in stateMap):\n",
    "        return True\n",
    "    else:\n",
    "        return False"
   ]
  },
  {
   "cell_type": "code",
   "execution_count": 344,
   "metadata": {},
   "outputs": [],
   "source": [
    "#Check if 2 states equivalent\n",
    "def checkStateEquals(a,b):\n",
    "    return getStateIndex(a) == getStateIndex(b)"
   ]
  },
  {
   "cell_type": "code",
   "execution_count": 267,
   "metadata": {},
   "outputs": [
    {
     "name": "stdout",
     "output_type": "stream",
     "text": [
      "1\n"
     ]
    },
    {
     "data": {
      "text/plain": [
       "True"
      ]
     },
     "execution_count": 267,
     "metadata": {},
     "output_type": "execute_result"
    }
   ],
   "source": [
    "#Test\n",
    "state = (1,1.222222)\n",
    "print(getStateIndex(state))\n",
    "checkStateEquals((1,1.222),(1.0001,1.222222))\n",
    "checkExistence((1,1.222222))"
   ]
  },
  {
   "cell_type": "markdown",
   "metadata": {},
   "source": [
    "\n",
    "### A Star Algorithm :"
   ]
  },
  {
   "cell_type": "markdown",
   "metadata": {},
   "source": [
    "Defining a node to run A*\n",
    "3 values at each node: \n",
    "- parent \n",
    "- values = $[\\theta, \\theta.]$\n",
    "- action"
   ]
  },
  {
   "cell_type": "code",
   "execution_count": 328,
   "metadata": {},
   "outputs": [],
   "source": [
    "class Node():\n",
    "\n",
    "    def __init__(self, parent=None, values=None, action=None):\n",
    "        self.parent = parent\n",
    "        self.values = values\n",
    "        self.action = action\n",
    "\n",
    "        self.g = 0\n",
    "        self.h = 0\n",
    "        self.f = 0\n",
    "\n",
    "    def __eq__(self, other):\n",
    "        v1 = self.values\n",
    "        v2 = other.values\n",
    "        return checkStateEquals((v1[0],v1[1]),(v2[0],v2[1]))\n",
    "    \n",
    "    def __str__(self):\n",
    "        return str(self.values) + \" \" + str(self.action)\n",
    "    \n",
    "    def __repr__(self):\n",
    "        return str(self.values)"
   ]
  },
  {
   "cell_type": "markdown",
   "metadata": {},
   "source": [
    "Heuristic: $h = - (\\theta^2 + {\\theta.}^2 + 0.001a^2_t)$  \n",
    "This heuristic is essentially our reward, our goal is to remain vertical ($\\theta = 0$), with the least velocity ($\\theta. = 0$), and the least amount of torque applied."
   ]
  },
  {
   "cell_type": "code",
   "execution_count": 345,
   "metadata": {},
   "outputs": [],
   "source": [
    "import math\n",
    "from queue import PriorityQueue\n",
    "\n",
    "def getHeuristic(values, action):\n",
    "    theta = values[0]\n",
    "    thetaDot = values[1]\n",
    "    return -(theta**2 + thetaDot**2 + 0.001 * action**2)"
   ]
  },
  {
   "cell_type": "markdown",
   "metadata": {},
   "source": [
    "A star algo using priority queue"
   ]
  },
  {
   "cell_type": "code",
   "execution_count": 327,
   "metadata": {},
   "outputs": [],
   "source": [
    "def astarOptimized(start_val,end_val, torque_options, model, start_torque = 0):\n",
    "    start_node = Node(None, start_val, 0)\n",
    "    print(\"Starting at \" + str(start_node))\n",
    "    start_node.g = start_node.h = start_node.f = 0\n",
    "    end_node = Node(None, end_val, 0)\n",
    "    came_from = {}\n",
    "    cost_so_far = {}\n",
    "    completed = {}\n",
    "    frontier = PriorityQueue()\n",
    "    frontier.put((0,start_node))\n",
    "    startNodeIndex = getStateIndex((start_node.values[0],start_node.values[1]))\n",
    "    cost_so_far[startNodeIndex] = 0;\n",
    "    came_from[startNodeIndex] = None\n",
    "    completed[startNodeIndex] = False\n",
    "    while not frontier.empty():\n",
    "        current_node = frontier.get()[1]\n",
    "        if(current_node == end_node):\n",
    "            path = []\n",
    "            current = current_node\n",
    "            while current is not None:\n",
    "                path.append(current.action)\n",
    "                current = current.parent\n",
    "            return(path[::-1])\n",
    "            break\n",
    "        \n",
    "        current_node_idx = getStateIndex((current_node.values[0],current_node.values[1]))\n",
    "        \n",
    "        if(current_node_idx in completed and completed[current_node_idx]):\n",
    "            continue\n",
    "        for torque in torque_options:\n",
    "            next_value = model.predict(np.array([current_node.values + list([torque])]))[0]\n",
    "            if(~checkExistence((next_value[0], next_value[1]))):\n",
    "                new_node = Node(current_node, list(next_value), torque)\n",
    "                heuristic = getHeuristic(next_value, torque)\n",
    "                nodeIndex = getStateIndex((new_node.values[0],new_node.values[1]))\n",
    "                cost_so_far[nodeIndex] = cost_so_far[current_node_idx] + heuristic;\n",
    "                came_from[nodeIndex] = (current_node_idx, torque)\n",
    "                new_node.f = cost_so_far[nodeIndex]\n",
    "                frontier.put((cost_so_far[nodeIndex],new_node))\n",
    "                \n",
    "        completed[current_node_idx] = True\n",
    "        \n",
    "    return []\n"
   ]
  },
  {
   "cell_type": "code",
   "execution_count": 346,
   "metadata": {},
   "outputs": [],
   "source": [
    "def getActionSequence(initialObservation):\n",
    "    init_state = getThetaThetaDotFromData(initialObservation)\n",
    "    final_state = [0,0]\n",
    "    stateMap = dict()\n",
    "    stateCount = [0]\n",
    "    decToKeep = 1\n",
    "    return astarOptimized(init_state, final_state, torque_options,model)"
   ]
  },
  {
   "cell_type": "markdown",
   "metadata": {},
   "source": [
    "### Testing"
   ]
  },
  {
   "cell_type": "code",
   "execution_count": 347,
   "metadata": {},
   "outputs": [
    {
     "name": "stdout",
     "output_type": "stream",
     "text": [
      "Starting at [-0.481060575305722, -0.79793782941537561] 0\n"
     ]
    }
   ],
   "source": [
    "a = env.reset();\n",
    "ans = getActionSequence(a)"
   ]
  },
  {
   "cell_type": "code",
   "execution_count": 348,
   "metadata": {},
   "outputs": [
    {
     "name": "stdout",
     "output_type": "stream",
     "text": [
      "[0, -2.0, -2.0, -2.0, -2.0, -2.0, -2.0, -2.0, -2.0, -2.0, -2.0, -2.0, -2.0, -2.0, -2.0, -2.0, -2.0, -2.0, -2.0, -2.0, -2.0, -2.0, -2.0, -2.0, -1.0, -2.0, -2.0, -2.0, -1.5, -2.0, -2.0, -2.0, -2.0, -2.0, -0.3, 0.3, -0.4, -2.0, -2.0, -1.3, -1.4, -2.0, -1.6, -2.0, -2.0, -0.8, -1.0, -0.6, 0.2, -2.0, 1.8, -2.0, -0.6, -1.9, -1.4, -2.0, -1.8, -0.7, 2.0, 2.0, 1.7, 2.0, 1.9, 1.7, 1.4, 1.2, -1.6, 0.9, -0.9, -1.6, -2.0, -1.8, -1.9, 1.6, 1.6, 1.4, 1.8, 1.6, 1.7, 1.1, 1.5, 1.8, 1.2, -0.3, -1.1, -1.8, -2.0, -1.6, -1.9, 1.8, 1.9, 1.4, 2.0, 1.5, 1.6, 1.1, 1.5, 1.7, 1.4, -0.3, -1.1, -1.7, -2.0, -1.7, -2.0, 1.7, 1.6, 1.2, 1.8, 1.9, 1.5, 1.4, 0.5, 2.0, -2.0, -2.0, 1.6, 1.0, 1.3, 1.2, 0.8, 1.5, 1.8, 1.3, 2.0, 1.9, 1.7, -0.9, 0.3, 1.5, -0.9, -1.6, -2.0, -2.0, -1.3, 1.2, 1.2, 0.7, 1.5, 1.7, 1.8, 1.4, 2.0, 1.8, 0.5, 0.2, 0.6, -0.9, -1.5, -2.0, -2.0, -2.0, 1.7, 1.0, 0.6, 2.0, 1.5, 1.7, 1.4, 1.5, 2.0, 0.8, 0.5, 0.5, -1.0, -1.6, -2.0, -2.0, -1.4, 1.8, 1.7, 1.8, 1.7, 2.0, 1.4, 1.5, 1.5, 1.0, -0.3, -0.5, 1.7, 1.5, -2.0, -0.2, -2.0, -2.0, -1.8, 0.1, 2.0, 2.0, 1.3, 1.7, 1.2, 1.4, 1.5, 1.3, 1.2, 1.1, -0.3, 1.3, -1.6, -0.9, -2.0, -2.0, -1.6, 0.8, 2.0, 1.4, 1.3, 1.6, 1.2, 1.3, 1.5, 1.4, 1.2, 1.4, -0.2, 1.2, -1.6, -0.9, -2.0, -2.0, -1.7, 0.8, 1.9, 1.3, 1.1, 1.6, 1.0, 1.2, 1.5, 1.5, 1.3, 1.6, 0.2, 1.0, -1.7, -0.9, -2.0, -2.0, -1.7, 0.8, 1.8, 1.2, 1.0, 1.5, 1.0, 1.7, 1.5, 1.5, 1.5, 1.9, -0.8, 1.0, 1.6, -2.0, 0.1, -2.0, -2.0, -2.0, 0.0, 1.1, 0.5, 1.7, 1.6, 1.8, 1.9, 2.0, 1.5, 1.5, 1.4, 1.9, -2.0, 1.1, 1.6, -1.3, 1.9, 1.8, 0.5, 1.6, 1.6, 1.6, 1.8, -1.1, 0.0, 1.9, 2.0, 2.0, 2.0, 2.0, 2.0, 2.0, 2.0, 2.0, 2.0, 2.0, 2.0, 2.0, 2.0, 2.0, 2.0, 2.0, 0.3, 2.0, 2.0, 2.0, 0.6, 0.0, 0.3, 0.0, 2.0, 2.0, 2.0, 2.0, 2.0, 2.0, 2.0, 2.0, 0.8, -1.9, -1.9, -1.8, -1.4, -2.0, -1.4, -1.7, -1.1, -1.1, 0.7, 2.0, 1.9, 2.0, 2.0, 1.9, 1.8, 1.7, -1.2, -1.4, -1.5, -1.9, -1.4, -2.0, -1.4, -1.9, -1.5, -1.7, 0.7, 1.1, 2.0, 1.7, 2.0, 2.0, 0.8, 0.1, -0.7, -1.4, -1.4, -1.8, -2.0, -2.0, -1.4, -1.4, -2.0, -1.8, -0.7, 0.6, 1.5, -0.8, -1.6, -1.7, -1.9, -1.9, -2.0, -1.7, -1.6, -0.7, -0.2, -1.2, -0.7, -0.9, -1.6, -1.1, -1.7, -1.1, -1.0, -1.6, -1.4]\n"
     ]
    }
   ],
   "source": [
    "print(ans)"
   ]
  },
  {
   "cell_type": "code",
   "execution_count": 325,
   "metadata": {},
   "outputs": [],
   "source": []
  },
  {
   "cell_type": "code",
   "execution_count": null,
   "metadata": {},
   "outputs": [],
   "source": []
  }
 ],
 "metadata": {
  "kernelspec": {
   "display_name": "Python 3",
   "language": "python",
   "name": "python3"
  },
  "language_info": {
   "codemirror_mode": {
    "name": "ipython",
    "version": 3
   },
   "file_extension": ".py",
   "mimetype": "text/x-python",
   "name": "python",
   "nbconvert_exporter": "python",
   "pygments_lexer": "ipython3",
   "version": "3.6.3"
  }
 },
 "nbformat": 4,
 "nbformat_minor": 2
}
